{
 "cells": [
  {
   "cell_type": "code",
   "execution_count": 26,
   "metadata": {},
   "outputs": [],
   "source": [
    "from glob import glob\n",
    "import json\n",
    "from pymongo import MongoClient"
   ]
  },
  {
   "cell_type": "markdown",
   "metadata": {},
   "source": [
    "## Importing the movie data"
   ]
  },
  {
   "cell_type": "code",
   "execution_count": 23,
   "metadata": {},
   "outputs": [],
   "source": [
    "movies_data = []\n",
    "\n",
    "for fname in glob(\"jsonmc-master/movies/*/*.json\"):\n",
    "    with open(fname) as file:\n",
    "        try:\n",
    "            contents = json.load(file)\n",
    "            movies_data.append(contents)\n",
    "        except UnicodeDecodeError:\n",
    "            pass"
   ]
  },
  {
   "cell_type": "code",
   "execution_count": 24,
   "metadata": {},
   "outputs": [
    {
     "data": {
      "text/plain": [
       "341"
      ]
     },
     "execution_count": 24,
     "metadata": {},
     "output_type": "execute_result"
    }
   ],
   "source": [
    "len(movies_data)"
   ]
  },
  {
   "cell_type": "code",
   "execution_count": 31,
   "metadata": {},
   "outputs": [
    {
     "data": {
      "text/plain": [
       "{'name': 'Dr. No',\n",
       " 'year': 1962,\n",
       " 'runtime': 110,\n",
       " 'categories': ['action', 'adventure', 'thriller'],\n",
       " 'release-date': '1962-10-05',\n",
       " 'director': 'Terence Young',\n",
       " 'writer': ['Richard Maibaum',\n",
       "  'Johanna Harwood',\n",
       "  'Berkely Mather',\n",
       "  'Ian Fleming'],\n",
       " 'actors': ['Sean Connery',\n",
       "  'Ursula Andress',\n",
       "  'Joseph Wiseman',\n",
       "  'Jack Lord',\n",
       "  'Bernard Lee'],\n",
       " 'storyline': 'A resourceful British government agent seeks answers in a case involving the disappearance of a colleague and the disruption of the American space program.',\n",
       " '_id': ObjectId('5ea58dc1778da3f01ec4f73e')}"
      ]
     },
     "execution_count": 31,
     "metadata": {},
     "output_type": "execute_result"
    }
   ],
   "source": [
    "movies_data[0]"
   ]
  },
  {
   "cell_type": "markdown",
   "metadata": {},
   "source": [
    "## Setting up MongoDB database instance"
   ]
  },
  {
   "cell_type": "markdown",
   "metadata": {},
   "source": [
    "One can enter data into the mongoDB database like so:\n",
    "\n",
    "Conncet to the MongoDB client and create a database, then create a document collection in this database and insert our documents (movie entries) into the collection."
   ]
  },
  {
   "cell_type": "code",
   "execution_count": 28,
   "metadata": {},
   "outputs": [
    {
     "data": {
      "text/plain": [
       "<pymongo.results.InsertManyResult at 0x2789e609f48>"
      ]
     },
     "execution_count": 28,
     "metadata": {},
     "output_type": "execute_result"
    }
   ],
   "source": [
    "client = MongoClient()\n",
    "db = client.movie_database\n",
    "movie_collection = db.movies\n",
    "movie_collection.insert_many(movies_data)"
   ]
  },
  {
   "cell_type": "markdown",
   "metadata": {},
   "source": [
    "## Basic Commands"
   ]
  },
  {
   "cell_type": "markdown",
   "metadata": {},
   "source": [
    "We can then count the documents in our collection to check they were inserted correctly. We enter the argument as {} as the first argument is a filter to apply before counting the documents. We enter {} as an empty filter so we retrive a count of all the documents."
   ]
  },
  {
   "cell_type": "code",
   "execution_count": 29,
   "metadata": {
    "scrolled": false
   },
   "outputs": [
    {
     "data": {
      "text/plain": [
       "341"
      ]
     },
     "execution_count": 29,
     "metadata": {},
     "output_type": "execute_result"
    }
   ],
   "source": [
    "movie_collection.count_documents({})"
   ]
  },
  {
   "cell_type": "markdown",
   "metadata": {},
   "source": [
    "We can also retrieve the entire collection of documents (or apply a filter and retrieve matching documents) like so:"
   ]
  },
  {
   "cell_type": "code",
   "execution_count": 46,
   "metadata": {},
   "outputs": [],
   "source": [
    "all_data = list(movie_collection.find({}))"
   ]
  },
  {
   "cell_type": "markdown",
   "metadata": {},
   "source": [
    "We can also get all the distinct values in a particular field across all the documents"
   ]
  },
  {
   "cell_type": "code",
   "execution_count": null,
   "metadata": {},
   "outputs": [],
   "source": [
    "names = db.movies.distinct('name')"
   ]
  },
  {
   "cell_type": "markdown",
   "metadata": {},
   "source": [
    "## Aggregation Requests"
   ]
  },
  {
   "cell_type": "markdown",
   "metadata": {},
   "source": [
    "We can also make aggregation requests like so, these are a really powerful tool to query, group, and subset the data."
   ]
  },
  {
   "cell_type": "markdown",
   "metadata": {},
   "source": [
    "We can use project to get a subset of the fields in each document and to perform operations on the documents to generate new fields for the data."
   ]
  },
  {
   "cell_type": "markdown",
   "metadata": {},
   "source": [
    "### Project"
   ]
  },
  {
   "cell_type": "code",
   "execution_count": 82,
   "metadata": {},
   "outputs": [
    {
     "data": {
      "text/plain": [
       "[{'runtime': 110,\n",
       "  'name': 'Dr. No',\n",
       "  'after1992': False,\n",
       "  'when': 'Before 1992',\n",
       "  'timeSince1992': 'Before 1992'},\n",
       " {'runtime': 129,\n",
       "  'name': 'To Kill a Mockingbird',\n",
       "  'after1992': False,\n",
       "  'when': 'Before 1992',\n",
       "  'timeSince1992': 'Before 1992'},\n",
       " {'runtime': 134,\n",
       "  'name': 'Whatever Happened To Baby Jane?',\n",
       "  'after1992': False,\n",
       "  'when': 'Before 1992',\n",
       "  'timeSince1992': 'Before 1992'}]"
      ]
     },
     "execution_count": 82,
     "metadata": {},
     "output_type": "execute_result"
    }
   ],
   "source": [
    "pipeline = [\n",
    "    { \"$project\": {\n",
    "        \"_id\": 0,          # use boolean to say whether to include a field or not - 0 means don't include the field\n",
    "        \"runtime\" : 1,     # use 1 to include the field in the projection\n",
    "        \"name\": \"$name\",   # can specify fields by name\n",
    "        \"after1992\" : { \"$gt\": [ \"$year\", 1992 ] }, # can apply operations such as simple boolean operations\n",
    "        \"when\": {\"$cond\": [\n",
    "              { \"$lt\": [ \"$year\", 1992 ] },\n",
    "              \"Before 1992\",\n",
    "              \"After 1992\"\n",
    "            ],\n",
    "            }, # can also apply more complex conditions to the data using this format - this uses cond's array syntax\n",
    "        \"timeSince1992\" : {\"$cond\" :{\n",
    "            \"if\": {\"$lt\": [\"$year\", 1992]}, \n",
    "            \"then\": \"Before 1992\", \n",
    "            \"else\": {\"$abs\" : {\"$subtract\": [ 1992, \"$year\"]}}}},\n",
    "        # the above line applys the condition operator with the alternative syntax, in both cases we can use field\n",
    "        # names in the conditional outputs, and even more complex operators within that, here we display \"Before 1992\"\n",
    "        # if the date is before 1992, otherwise we subtract the year from 1992 and take the absolute value\n",
    "        }\n",
    "    },\n",
    "]\n",
    "\n",
    "list(db.movies.aggregate(pipeline))[0:3]"
   ]
  },
  {
   "cell_type": "markdown",
   "metadata": {},
   "source": [
    "### Group"
   ]
  },
  {
   "cell_type": "markdown",
   "metadata": {},
   "source": [
    "We have to specify/provide a field \"_id\" which the grouping operation groups documents by, for each document in the group we can perform an operation, one of the most simple is counting the elements in each group."
   ]
  },
  {
   "cell_type": "code",
   "execution_count": 83,
   "metadata": {},
   "outputs": [
    {
     "data": {
      "text/plain": [
       "[{'_id': 1999, 'count': 5},\n",
       " {'_id': 1977, 'count': 2},\n",
       " {'_id': 1974, 'count': 2}]"
      ]
     },
     "execution_count": 83,
     "metadata": {},
     "output_type": "execute_result"
    }
   ],
   "source": [
    "pipeline = [\n",
    "    { \"$group\": {\n",
    "    \"_id\": \"$year\",\n",
    "    \"count\": { \"$sum\": 1 },\n",
    "    }},\n",
    "]\n",
    "\n",
    "list(db.movies.aggregate(pipeline))[0:3]"
   ]
  },
  {
   "cell_type": "markdown",
   "metadata": {},
   "source": [
    "We can also group on calculated parameters, such as using a condition to split the data into 2 catgories"
   ]
  },
  {
   "cell_type": "code",
   "execution_count": 86,
   "metadata": {},
   "outputs": [
    {
     "data": {
      "text/plain": [
       "[{'_id': 'After 1992', 'count': 289}, {'_id': 'Before 1992', 'count': 52}]"
      ]
     },
     "execution_count": 86,
     "metadata": {},
     "output_type": "execute_result"
    }
   ],
   "source": [
    "pipeline = [\n",
    "    { \"$group\": {\n",
    "    \"_id\": {\"$cond\" : {\n",
    "            \"if\": {\"$lt\": [\"$year\", 1992]}, \n",
    "            \"then\": \"Before 1992\", \n",
    "            \"else\": \"After 1992\"}},\n",
    "    \"count\": { \"$sum\": 1 },\n",
    "  }},\n",
    "]\n",
    "\n",
    "list(db.movies.aggregate(pipeline))"
   ]
  },
  {
   "cell_type": "markdown",
   "metadata": {},
   "source": [
    "We can also calculate aggregate properties of the group like summing a field, averaging it, and also build an array of values for a field for each document in each group."
   ]
  },
  {
   "cell_type": "code",
   "execution_count": 93,
   "metadata": {},
   "outputs": [
    {
     "data": {
      "text/plain": [
       "[{'_id': 'After 1992',\n",
       "  'totalRunTime': 35853,\n",
       "  'meanRunTime': 124.48958333333333,\n",
       "  'maxRunTime': 1120,\n",
       "  'releaseDates': ['1992-12-04',\n",
       "   '1992-11-20',\n",
       "   '2093-05-07',\n",
       "   '1993-06-11',\n",
       "   '1994-12-16',\n",
       "   '1994-07-06',\n",
       "   '1994-10-14',\n",
       "   '1994-02-04',\n",
       "   '1994-12-23',\n",
       "   '1994-06-15',\n",
       "   '1994-07-29',\n",
       "   '1993-09-10',\n",
       "   '1995-11-18',\n",
       "   '1995-09-15',\n",
       "   '1995-12-15',\n",
       "   '1995-10-06',\n",
       "   '1996-02-16',\n",
       "   '1996-06-25',\n",
       "   '1996-05-22',\n",
       "   '1996-11-15',\n",
       "   '1996-05-17',\n",
       "   '1997-11-07',\n",
       "   '1997-05-09',\n",
       "   '1997-05-23',\n",
       "   '1998-07-01',\n",
       "   '1999-01-10',\n",
       "   '1999-10-15',\n",
       "   '1999-05-19',\n",
       "   '1999-03-31',\n",
       "   '1999-08-02',\n",
       "   '2000-12-15',\n",
       "   '2000-12-20',\n",
       "   '2000-03-11',\n",
       "   '2000-05-24',\n",
       "   '2000-09-29',\n",
       "   '2000-08-11',\n",
       "   '2000-07-14',\n",
       "   '2001-06-26',\n",
       "   '2001-09-14',\n",
       "   '2001-11-16',\n",
       "   '2001-08-24',\n",
       "   '2001-09-05',\n",
       "   '2001-12-07',\n",
       "   '2001-06-22',\n",
       "   '2001-12-19',\n",
       "   '2001-07-18',\n",
       "   '2002-11-15',\n",
       "   '2002-07-12',\n",
       "   '2002-05-24',\n",
       "   '2002-05-16',\n",
       "   '2002-14-02',\n",
       "   '2002-12-18',\n",
       "   '2003-06-06',\n",
       "   '2003-02-14',\n",
       "   '2003-05-30',\n",
       "   '2003-10-10',\n",
       "   '2003-10-15',\n",
       "   '2003-07-02',\n",
       "   '2003-12-17',\n",
       "   '2003-05-15',\n",
       "   '2003-11-05',\n",
       "   '2003-06-27',\n",
       "   '2003-09-19',\n",
       "   '2003-05-02',\n",
       "   '2004-02-13',\n",
       "   '2004-06-04',\n",
       "   '2004-03-12',\n",
       "   '2004-05-30',\n",
       "   '2004-06-25',\n",
       "   '2004-16-04',\n",
       "   '2005-06-15',\n",
       "   '2005-01-13',\n",
       "   '2005-02-18',\n",
       "   '2005-11-18',\n",
       "   '2006-03-23',\n",
       "   '2005-08-11',\n",
       "   '2005-05-19',\n",
       "   '2005-06317',\n",
       "   '2006-11-17',\n",
       "   '2006-12-14',\n",
       "   '2006-05-05',\n",
       "   '2006-06-28',\n",
       "   '2006-06-16',\n",
       "   '2006-10-17',\n",
       "   '2006-12-15',\n",
       "   '2006-01-12',\n",
       "   '2006-05-26',\n",
       "   '2007-06-1',\n",
       "   '2007-06-15',\n",
       "   '2007-07-01',\n",
       "   '2007-07-11',\n",
       "   '2007-09-01',\n",
       "   '2004-05-04',\n",
       "   '2007-07-03',\n",
       "   '2008-05-02',\n",
       "   '2008-06-06',\n",
       "   '2008-12-05',\n",
       "   '2008-11-14',\n",
       "   '2010-07-10',\n",
       "   '2008-07-18',\n",
       "   '2008-06-13',\n",
       "   '2009-06-10',\n",
       "   '2009-04-03',\n",
       "   '2009-08-07',\n",
       "   '2009-07-15',\n",
       "   '2009-07-24',\n",
       "   '2009-12-26',\n",
       "   '2009-05-08',\n",
       "   '2009-05-21',\n",
       "   '2009-06-24',\n",
       "   '2006-01-23',\n",
       "   '2009-02-23',\n",
       "   '2009-05-01',\n",
       "   '2010-11-19',\n",
       "   '2010-03-26',\n",
       "   '2010-05-07',\n",
       "   '2010-02-02',\n",
       "   '2010-03-18',\n",
       "   '2010-10-01',\n",
       "   '2010-12-10',\n",
       "   '2011-07-22',\n",
       "   '2011-04-29',\n",
       "   '2011-07-15',\n",
       "   '2011-05-26',\n",
       "   '2011-12-21',\n",
       "   '2011-12-16',\n",
       "   '2011-01-28',\n",
       "   '2011-10-28',\n",
       "   '2011-05-06',\n",
       "   '2011-06-29',\n",
       "   '2011-06-03',\n",
       "   '2012-12-25',\n",
       "   '2012-12-21',\n",
       "   '2012-11-09',\n",
       "   '2012-04-11',\n",
       "   '2012-07-20',\n",
       "   '2012-12-14',\n",
       "   '2012-01-19',\n",
       "   '2013-09-19',\n",
       "   '2013-05-24',\n",
       "   '2013-03-28',\n",
       "   '2013-10-12',\n",
       "   '2013-05-03',\n",
       "   '2013-06-14',\n",
       "   '2013-11-27',\n",
       "   '2013-07-12',\n",
       "   '2013-08-07',\n",
       "   '2013-09-27',\n",
       "   '2013-05-16',\n",
       "   '2013-12-13',\n",
       "   '2013-12-25',\n",
       "   '2013-07-26',\n",
       "   '2013-11-08',\n",
       "   '2015-03-20',\n",
       "   '2014-11-07',\n",
       "   '2014-04-04',\n",
       "   '2014-10-10',\n",
       "   '2014-09-18',\n",
       "   '2014-08-01',\n",
       "   '2010-03-26',\n",
       "   '2014-11-07',\n",
       "   '2014-09-19',\n",
       "   '2014-02-13',\n",
       "   '2014-07-25',\n",
       "   '2014-07-11',\n",
       "   '2014-12-17',\n",
       "   '2014-06-27',\n",
       "   '2014-05-23',\n",
       "   '2015-07-17',\n",
       "   '2015-04-23',\n",
       "   '2015-04-03',\n",
       "   '2015-06-12',\n",
       "   '2015-05-22',\n",
       "   '2015-05-07',\n",
       "   '2015-07-31',\n",
       "   '2005-02-05',\n",
       "   '2015-11-06',\n",
       "   '2015-12-18',\n",
       "   '2009-07-01',\n",
       "   '2015-12-30',\n",
       "   '2015-10-02',\n",
       "   '2016-11-23',\n",
       "   '2016-11-11',\n",
       "   '2016-03-25',\n",
       "   '2016-05-06',\n",
       "   '2016-04-14',\n",
       "   '2016-02-12',\n",
       "   '2016-11-03',\n",
       "   '2016-11-18',\n",
       "   '2016-04-14',\n",
       "   '2016-08-19',\n",
       "   '2016-01-29',\n",
       "   '2016-08-31',\n",
       "   '2016-11-23',\n",
       "   '2016-10-21',\n",
       "   '2016-12-14',\n",
       "   '2016-12-16',\n",
       "   '2013-07-22',\n",
       "   '2016-08-05',\n",
       "   '2016-03-25',\n",
       "   '2016-06-10',\n",
       "   '2016-09-23',\n",
       "   '2016-09-22',\n",
       "   '2016-24-11',\n",
       "   '2016-05-24',\n",
       "   '2016-05-27',\n",
       "   '2016-09-10',\n",
       "   '2016-03-04',\n",
       "   '2017-08-11',\n",
       "   '2017-10-27',\n",
       "   '2017-04-28',\n",
       "   '2017-06-28',\n",
       "   '2017-03-16',\n",
       "   '2017-10-05',\n",
       "   '2017-04-15',\n",
       "   '2017-07-21',\n",
       "   '2017-02-24',\n",
       "   '2017-03-31',\n",
       "   '2017-04-19',\n",
       "   '2017-10-13',\n",
       "   '2017-09-08',\n",
       "   '2017-12-20',\n",
       "   '2017-11-17',\n",
       "   '2017-04-07',\n",
       "   '2017-09-22',\n",
       "   '2017-12-21',\n",
       "   '2017-01-25',\n",
       "   '2017-07-05',\n",
       "   '2017-12-15',\n",
       "   '2017-08-18',\n",
       "   '2017-12-08',\n",
       "   '2017-04-14',\n",
       "   '2017-12-08',\n",
       "   '2017-06-09',\n",
       "   '2017-12-21',\n",
       "   '2017-10-25',\n",
       "   '2017-07-10',\n",
       "   '2017-05-15',\n",
       "   '2018-09-07',\n",
       "   '2018-03-30',\n",
       "   '2018-02-23',\n",
       "   '2018-07-06',\n",
       "   '2018-12-14',\n",
       "   '2018-01-5',\n",
       "   '2018-04-27',\n",
       "   '2018-10-12',\n",
       "   '2018-10-12',\n",
       "   '2018-02-16',\n",
       "   '2018-11-02',\n",
       "   '2018-12-21',\n",
       "   '2018-08-02',\n",
       "   '2018-08-15',\n",
       "   '2018-05-10',\n",
       "   '2018-02-09',\n",
       "   '2018-10-19',\n",
       "   '2018-10-12',\n",
       "   '2018-10-19',\n",
       "   '2018-06-08',\n",
       "   '2018-09-28',\n",
       "   '2018-06-14',\n",
       "   '2018-02-15',\n",
       "   '2018-10-26',\n",
       "   '2018-05-21',\n",
       "   '2018-10-19',\n",
       "   '2018-05-10',\n",
       "   '2018-12-14',\n",
       "   '2018-10-26',\n",
       "   '2018-04-21',\n",
       "   '2018-12-12',\n",
       "   '2018-11-21',\n",
       "   '2018-04-13',\n",
       "   '2018-03-11',\n",
       "   '2018-08-31',\n",
       "   '2018-07-01',\n",
       "   '2018-09-27',\n",
       "   '2018-05-24',\n",
       "   '2018-10-05',\n",
       "   '2018-10-19',\n",
       "   '2018-09-21',\n",
       "   '2018-10-12',\n",
       "   '2018-08-10',\n",
       "   '2018-09-07',\n",
       "   '2018-09-14',\n",
       "   '2018-03-16',\n",
       "   '2018-06-01',\n",
       "   '2018-10-05',\n",
       "   '2018-12-21']},\n",
       " {'_id': 'Before 1992',\n",
       "  'totalRunTime': 6244,\n",
       "  'meanRunTime': 120.07692307692308,\n",
       "  'maxRunTime': 200,\n",
       "  'releaseDates': ['1962-10-05',\n",
       "   '1962-12-25',\n",
       "   '1962-10-31',\n",
       "   '1963-10-10',\n",
       "   '1964-09-17',\n",
       "   '1965-03-29',\n",
       "   '1965-12-09',\n",
       "   '1966-12-29',\n",
       "   '1967-06-12',\n",
       "   '1971-12-14',\n",
       "   '1972-03-15',\n",
       "   '1974-13-6',\n",
       "   '1974-12-12',\n",
       "   '1975-05-25',\n",
       "   '1975-11-19',\n",
       "   '1978-02-03',\n",
       "   '1977-05-25',\n",
       "   '1978-12-15',\n",
       "   '1979-05-25',\n",
       "   '1979-11-08',\n",
       "   '1979-04-12',\n",
       "   '1980-06-20',\n",
       "   '1981-06-12',\n",
       "   '1981-12-24',\n",
       "   '1981-06-19',\n",
       "   '1982-09-09',\n",
       "   '1983-10-06',\n",
       "   '1983-05-25',\n",
       "   '1983-06-17',\n",
       "   '1983-07-07',\n",
       "   '1984-05-23',\n",
       "   '1984-11-03',\n",
       "   '1984-10-26',\n",
       "   '1985-07-03',\n",
       "   '1985-07-10',\n",
       "   '1985-02-15',\n",
       "   '1986-06-24',\n",
       "   '1986-05-16',\n",
       "   '1987-06-24',\n",
       "   '1987-07-24',\n",
       "   '1987-10-09',\n",
       "   '1988-11-04',\n",
       "   '1990-01-16',\n",
       "   '1989-05-24',\n",
       "   '1989-10-05',\n",
       "   '1990-11-16',\n",
       "   '1990-12-20',\n",
       "   '1991-05-24',\n",
       "   '1991-11-27',\n",
       "   '1991-11-22',\n",
       "   '1991-07-03',\n",
       "   '1991-02-14']}]"
      ]
     },
     "execution_count": 93,
     "metadata": {},
     "output_type": "execute_result"
    }
   ],
   "source": [
    "pipeline = [\n",
    "    { \"$group\": {\n",
    "    \"_id\": {\"$cond\" : {\n",
    "            \"if\": {\"$lt\": [\"$year\", 1992]}, \n",
    "            \"then\": \"Before 1992\", \n",
    "            \"else\": \"After 1992\"}},\n",
    "    \"totalRunTime\": { \"$sum\": \"$runtime\" },\n",
    "    \"meanRunTime\": {\"$avg\": \"$runtime\"},\n",
    "    \"maxRunTime\": {\"$max\": \"$runtime\"},\n",
    "    \"releaseDates\": {\"$push\": \"$release-date\"},\n",
    "  }},\n",
    "]\n",
    "\n",
    "list(db.movies.aggregate(pipeline))[0:3]"
   ]
  },
  {
   "cell_type": "markdown",
   "metadata": {},
   "source": [
    "### Match"
   ]
  },
  {
   "cell_type": "markdown",
   "metadata": {},
   "source": [
    "One can use match to filter all documents to only include documents that match a condition or set of conditions. We also introduce pipelines with multiple stages here, we can chain together many stages to form complicated and powerful logic. Also depending on the operation being performed operators can look different / have different orders of command, for example these greater than and less than conditions take a different form to the ones we have used above, using the ones above for this operation is not possible/allowed by the syntax."
   ]
  },
  {
   "cell_type": "code",
   "execution_count": 99,
   "metadata": {},
   "outputs": [
    {
     "data": {
      "text/plain": [
       "[{'year': 1962, 'runtime': 129},\n",
       " {'year': 1962, 'runtime': 134},\n",
       " {'year': 1965, 'runtime': 172}]"
      ]
     },
     "execution_count": 99,
     "metadata": {},
     "output_type": "execute_result"
    }
   ],
   "source": [
    "pipeline = [\n",
    "    {\"$match\" : { \"$and\" : [\n",
    "        {\"year\" : {\"$lte\": 1992}},\n",
    "        {\"runtime\": {\"$gt\": 120}}\n",
    "    ]}},\n",
    "    { \"$project\": {\n",
    "        \"_id\": 0,\n",
    "        \"runtime\" : 1,\n",
    "        \"year\" : 1,\n",
    "    }},\n",
    "]\n",
    "\n",
    "list(db.movies.aggregate(pipeline))[0:3]"
   ]
  },
  {
   "cell_type": "markdown",
   "metadata": {},
   "source": [
    "### Unwind"
   ]
  },
  {
   "cell_type": "markdown",
   "metadata": {},
   "source": [
    "This unwind operation deconstructs a field which has an array of values producing a copy of the document for each value in the array, so we if we have a document with 3 values in the array we will produce 3 documents each identical apart from each having 1 of the entries from the original document's array."
   ]
  },
  {
   "cell_type": "code",
   "execution_count": 101,
   "metadata": {},
   "outputs": [
    {
     "data": {
      "text/plain": [
       "[{'_id': ObjectId('5ea58dc1778da3f01ec4f73e'),\n",
       "  'name': 'Dr. No',\n",
       "  'year': 1962,\n",
       "  'runtime': 110,\n",
       "  'categories': 'action',\n",
       "  'release-date': '1962-10-05',\n",
       "  'director': 'Terence Young',\n",
       "  'writer': ['Richard Maibaum',\n",
       "   'Johanna Harwood',\n",
       "   'Berkely Mather',\n",
       "   'Ian Fleming'],\n",
       "  'actors': ['Sean Connery',\n",
       "   'Ursula Andress',\n",
       "   'Joseph Wiseman',\n",
       "   'Jack Lord',\n",
       "   'Bernard Lee'],\n",
       "  'storyline': 'A resourceful British government agent seeks answers in a case involving the disappearance of a colleague and the disruption of the American space program.'},\n",
       " {'_id': ObjectId('5ea58dc1778da3f01ec4f73e'),\n",
       "  'name': 'Dr. No',\n",
       "  'year': 1962,\n",
       "  'runtime': 110,\n",
       "  'categories': 'adventure',\n",
       "  'release-date': '1962-10-05',\n",
       "  'director': 'Terence Young',\n",
       "  'writer': ['Richard Maibaum',\n",
       "   'Johanna Harwood',\n",
       "   'Berkely Mather',\n",
       "   'Ian Fleming'],\n",
       "  'actors': ['Sean Connery',\n",
       "   'Ursula Andress',\n",
       "   'Joseph Wiseman',\n",
       "   'Jack Lord',\n",
       "   'Bernard Lee'],\n",
       "  'storyline': 'A resourceful British government agent seeks answers in a case involving the disappearance of a colleague and the disruption of the American space program.'},\n",
       " {'_id': ObjectId('5ea58dc1778da3f01ec4f73e'),\n",
       "  'name': 'Dr. No',\n",
       "  'year': 1962,\n",
       "  'runtime': 110,\n",
       "  'categories': 'thriller',\n",
       "  'release-date': '1962-10-05',\n",
       "  'director': 'Terence Young',\n",
       "  'writer': ['Richard Maibaum',\n",
       "   'Johanna Harwood',\n",
       "   'Berkely Mather',\n",
       "   'Ian Fleming'],\n",
       "  'actors': ['Sean Connery',\n",
       "   'Ursula Andress',\n",
       "   'Joseph Wiseman',\n",
       "   'Jack Lord',\n",
       "   'Bernard Lee'],\n",
       "  'storyline': 'A resourceful British government agent seeks answers in a case involving the disappearance of a colleague and the disruption of the American space program.'}]"
      ]
     },
     "execution_count": 101,
     "metadata": {},
     "output_type": "execute_result"
    }
   ],
   "source": [
    "pipeline = [\n",
    "    { \"$unwind\" : \"$categories\"},\n",
    "]\n",
    "\n",
    "list(db.movies.aggregate(pipeline))[0:3]"
   ]
  },
  {
   "cell_type": "markdown",
   "metadata": {},
   "source": [
    "### An example of combining these together to count the number of films with unique names in each category"
   ]
  },
  {
   "cell_type": "code",
   "execution_count": 115,
   "metadata": {},
   "outputs": [
    {
     "data": {
      "text/plain": [
       "[{'category': 'history', 'movieCount': 6},\n",
       " {'category': 'Action', 'movieCount': 7},\n",
       " {'category': 'teen', 'movieCount': 1},\n",
       " {'category': 'comdey', 'movieCount': 1},\n",
       " {'category': 'Police', 'movieCount': 1}]"
      ]
     },
     "execution_count": 115,
     "metadata": {},
     "output_type": "execute_result"
    }
   ],
   "source": [
    "pipeline = [\n",
    "    {\"$project\" : {\n",
    "        \"_id\" : 0,\n",
    "        \"name\" : \"$name\",\n",
    "        \"categories\" : 1\n",
    "    }}, \n",
    "    { \"$unwind\" : \"$categories\"}, \n",
    "    {\"$group\": {\"_id\": \"$categories\",\n",
    "               \"names\": {\"$addToSet\" : \"$name\" }\n",
    "               }},\n",
    "    {\"$project\" : {\n",
    "        \"_id\": 0,\n",
    "        \"category\": \"$_id\",\n",
    "        \"movieCount\" : {\"$size\" : \"$names\"}\n",
    "    }},\n",
    "]\n",
    "list(db.movies.aggregate(pipeline))[0:5]\n",
    "\n",
    "# Pipeline stages \n",
    "# 1) Subsets data to just names and categories\n",
    "# 2) unwinds categories (which is an array of strings) so we each document now has a single category\n",
    "# 3) groups documents by category and adds them to a set of names (a set can only contain each name \n",
    "# once so removes any chance of movies being duplicated if they contain the same category twice)\n",
    "# 4) gets the size of the set - i.e. number of unique names for each category of film"
   ]
  },
  {
   "cell_type": "markdown",
   "metadata": {},
   "source": [
    "#### The first projection stage is not required, however, it removes the other unessesary data from the rest of the pipeline processes, for large documents with many fields, or more complicated fields reducing the data to the least required can provide a speed benefit to the overall process. Even for these relatively simple documents a small speed benefit is observed."
   ]
  },
  {
   "cell_type": "code",
   "execution_count": 112,
   "metadata": {},
   "outputs": [
    {
     "name": "stdout",
     "output_type": "stream",
     "text": [
      "4.06 ms ± 339 µs per loop (mean ± std. dev. of 7 runs, 100 loops each)\n"
     ]
    }
   ],
   "source": [
    "%%timeit \n",
    "\n",
    "pipeline = [\n",
    "    {\"$project\" : {\n",
    "        \"_id\" : 0,\n",
    "        \"name\" : \"$name\",\n",
    "        \"categories\" : 1\n",
    "    }}, \n",
    "    { \"$unwind\" : \"$categories\"}, \n",
    "    {\"$group\": {\"_id\": \"$categories\",\n",
    "               \"names\": {\"$addToSet\" : \"$name\" }\n",
    "               }},\n",
    "    {\"$project\" : {\n",
    "        \"_id\": 0,\n",
    "        \"category\": \"$_id\",\n",
    "        \"movieCount\" : {\"$size\" : \"$names\"}\n",
    "    }},\n",
    "]\n",
    "list(db.movies.aggregate(pipeline))\n"
   ]
  },
  {
   "cell_type": "code",
   "execution_count": 114,
   "metadata": {},
   "outputs": [
    {
     "name": "stdout",
     "output_type": "stream",
     "text": [
      "4.34 ms ± 322 µs per loop (mean ± std. dev. of 7 runs, 100 loops each)\n"
     ]
    }
   ],
   "source": [
    "%%timeit \n",
    "\n",
    "pipeline = [\n",
    "    { \"$unwind\" : \"$categories\"}, \n",
    "    {\"$group\": {\"_id\": \"$categories\",\n",
    "               \"names\": {\"$addToSet\" : \"$name\" }\n",
    "               }},\n",
    "    {\"$project\" : {\n",
    "        \"_id\": 0,\n",
    "        \"category\": \"$_id\",\n",
    "        \"movieCount\" : {\"$size\" : \"$names\"}\n",
    "    }},\n",
    "]\n",
    "list(db.movies.aggregate(pipeline))\n"
   ]
  },
  {
   "cell_type": "code",
   "execution_count": null,
   "metadata": {},
   "outputs": [],
   "source": []
  }
 ],
 "metadata": {
  "kernelspec": {
   "display_name": "Python 3",
   "language": "python",
   "name": "python3"
  },
  "language_info": {
   "codemirror_mode": {
    "name": "ipython",
    "version": 3
   },
   "file_extension": ".py",
   "mimetype": "text/x-python",
   "name": "python",
   "nbconvert_exporter": "python",
   "pygments_lexer": "ipython3",
   "version": "3.7.6"
  }
 },
 "nbformat": 4,
 "nbformat_minor": 4
}
